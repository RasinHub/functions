{
 "cells": [
  {
   "cell_type": "markdown",
   "metadata": {},
   "source": [
    "# FUNCTIONS"
   ]
  },
  {
   "cell_type": "code",
   "execution_count": 2,
   "metadata": {},
   "outputs": [],
   "source": [
    "def my_function():\n",
    "    print('hello From my first function')\n"
   ]
  },
  {
   "cell_type": "code",
   "execution_count": 12,
   "metadata": {},
   "outputs": [
    {
     "name": "stdout",
     "output_type": "stream",
     "text": [
      "Hello, Rasin , From Function!, I wish you 10\n",
      "Hello, Rasin From Function!, I wish you 10\n"
     ]
    }
   ],
   "source": [
    "def my_functin_with_args(user_name, greeting):\n",
    "    print('Hello, %s , From Function!, I wish you %s'%(user_name, greeting))\n",
    "    #or\n",
    "    print('Hello, {} From Function!, I wish you {}'.format(user_name, greeting))\n",
    "my_functin_with_args('Rasin',5+5)"
   ]
  },
  {
   "cell_type": "code",
   "execution_count": 16,
   "metadata": {},
   "outputs": [
    {
     "name": "stdout",
     "output_type": "stream",
     "text": [
      "45\n",
      "9\n"
     ]
    }
   ],
   "source": [
    "\n",
    "def SumOfTwoNumbers(a,b):\n",
    "    return (a+b)\n",
    "print(SumOfTwoNumbers('4','5'))\n",
    "print(SumOfTwoNumbers(4,5))\n"
   ]
  },
  {
   "cell_type": "code",
   "execution_count": null,
   "metadata": {},
   "outputs": [],
   "source": [
    "\n",
    "def SumOfTwoNumbers(a,b):\n",
    "    c = a + b\n",
    "    return (c)\n",
    "print(SumOfTwoNumbers('4','5'))\n",
    "print(SumOfTwoNumbers(4,5))\n"
   ]
  },
  {
   "cell_type": "code",
   "execution_count": 2,
   "metadata": {},
   "outputs": [
    {
     "name": "stdout",
     "output_type": "stream",
     "text": [
      "45\n",
      "9\n",
      "9\n"
     ]
    }
   ],
   "source": [
    "\n",
    "def SumOfTwoNumbers(a,b):\n",
    "    global c\n",
    "    c = a + b\n",
    "    return (a+b)\n",
    "print(SumOfTwoNumbers('4','5'))\n",
    "print(SumOfTwoNumbers(4,5))\n",
    "print(c)"
   ]
  },
  {
   "cell_type": "code",
   "execution_count": 9,
   "metadata": {},
   "outputs": [
    {
     "name": "stdout",
     "output_type": "stream",
     "text": [
      "x: 5\n",
      "y: 10\n",
      "x: 5\n",
      "y: 10\n"
     ]
    }
   ],
   "source": [
    "def MyFunPreDefinedParam(x, y=50):\n",
    "    print('x:',x)\n",
    "    print('y:',y)\n",
    "MyFunPreDefinedParam(x=5,y=10)\n",
    "MyFunPreDefinedParam(y=10,x=5)"
   ]
  },
  {
   "cell_type": "code",
   "execution_count": 31,
   "metadata": {},
   "outputs": [
    {
     "data": {
      "text/plain": [
       "155520"
      ]
     },
     "execution_count": 31,
     "metadata": {},
     "output_type": "execute_result"
    }
   ],
   "source": [
    "cube = lambda x: x*x*x*x*4*x*5\n",
    "\n",
    "cube(6)   \n"
   ]
  },
  {
   "cell_type": "code",
   "execution_count": 32,
   "metadata": {},
   "outputs": [
    {
     "data": {
      "text/plain": [
       "32868605791801164836057193385588261165170033825065152555776817574134838362040382781620634400102176096878478615696873984447730473339033857534733846690810702811370876579737072992640291092982688021090553532753565176874084990948848594688850521642699115772926704424642501514324539463180477348003661821793221613075002520750564609053497942386831360"
      ]
     },
     "execution_count": 32,
     "metadata": {},
     "output_type": "execute_result"
    }
   ],
   "source": [
    "cube(69686757498567886786458904850948593453458496645666666666666666666668)"
   ]
  },
  {
   "cell_type": "code",
   "execution_count": 57,
   "metadata": {},
   "outputs": [
    {
     "name": "stdout",
     "output_type": "stream",
     "text": [
      "0\n",
      "even !\n",
      "1\n",
      "2\n",
      "even !\n",
      "3\n",
      "4\n",
      "even !\n",
      "5\n",
      "6\n",
      "even !\n",
      "7\n",
      "8\n",
      "even !\n",
      "9\n"
     ]
    }
   ],
   "source": [
    "import numpy as np\n",
    "def run():\n",
    "    even_numbers=[]\n",
    "    for x in range(10):\n",
    "        print(x)\n",
    "        if np.mod(x,2)==0:\n",
    "        #return\n",
    "            print('even !')\n",
    "run()"
   ]
  },
  {
   "cell_type": "code",
   "execution_count": 61,
   "metadata": {},
   "outputs": [
    {
     "name": "stdout",
     "output_type": "stream",
     "text": [
      "Entrer your name:ı\n",
      "Hello ı\n"
     ]
    }
   ],
   "source": [
    "def Hello():\n",
    "    name=str(input('Entrer your name:'))\n",
    "    if name:  # or name != None\n",
    "        print(\"Hello \" + str(name))\n",
    "    else:\n",
    "        print('Hello World')\n",
    "    return\n",
    "Hello()"
   ]
  },
  {
   "cell_type": "code",
   "execution_count": null,
   "metadata": {},
   "outputs": [],
   "source": []
  },
  {
   "cell_type": "code",
   "execution_count": 63,
   "metadata": {},
   "outputs": [
    {
     "name": "stdout",
     "output_type": "stream",
     "text": [
      "Benefit1 is a benefit of funtions!\n",
      "Benefit2 is a benefit of funtions!\n",
      "Benefit3 is a benefit of funtions!\n",
      "Benefit4 is a benefit of funtions!\n"
     ]
    }
   ],
   "source": [
    "#List of benefits multiple of functios\n",
    "def ListBenefits():\n",
    "    return('Benefit1','Benefit2','Benefit3','Benefit4')\n",
    "def BuiltSentence(benefit):\n",
    "    return '{} is a benefit of funtions!'.format(benefit)\n",
    "        #or {benefit} is a benefit of functions!\n",
    "def NameTheBenefitsOfFunctions():\n",
    "    list_of_benefits = ListBenefits()\n",
    "    for benefit in list_of_benefits:\n",
    "        print(BuiltSentence(benefit))\n",
    "NameTheBenefitsOfFunctions()"
   ]
  },
  {
   "cell_type": "markdown",
   "metadata": {},
   "source": [
    "# Finding max number in a array"
   ]
  },
  {
   "cell_type": "markdown",
   "metadata": {},
   "source": [
    "# Example 1 ()"
   ]
  },
  {
   "cell_type": "code",
   "execution_count": 73,
   "metadata": {},
   "outputs": [
    {
     "name": "stdout",
     "output_type": "stream",
     "text": [
      "734\n",
      "(45, 3, 734)\n"
     ]
    }
   ],
   "source": [
    "def MyMax(x,y,z):\n",
    "    max_say=x\n",
    "    arry= (x,y,z)\n",
    "    for a in arry:\n",
    "        if max_say<a:\n",
    "            max_say=a\n",
    "    print(max_say)\n",
    "    print(arry)\n",
    "    \n",
    "MyMax(45,3,734)\n",
    "    "
   ]
  },
  {
   "cell_type": "code",
   "execution_count": null,
   "metadata": {},
   "outputs": [],
   "source": [
    "With "
   ]
  },
  {
   "cell_type": "code",
   "execution_count": 83,
   "metadata": {},
   "outputs": [
    {
     "name": "stdout",
     "output_type": "stream",
     "text": [
      "4\n"
     ]
    }
   ],
   "source": [
    "def MaxOfTwo(x,y):\n",
    "    if x>y:\n",
    "        return x\n",
    "    return y\n",
    "def MaxOfThree(x,y,z):\n",
    "    return(MaxOfTwo(x, MaxOfTwo(y,z)))\n",
    "print(MaxOfThree(3,4,-6))"
   ]
  },
  {
   "cell_type": "markdown",
   "metadata": {},
   "source": [
    "# Example 2 (in an array)"
   ]
  },
  {
   "cell_type": "code",
   "execution_count": 82,
   "metadata": {},
   "outputs": [
    {
     "name": "stdout",
     "output_type": "stream",
     "text": [
      "10\n",
      "56\n"
     ]
    }
   ],
   "source": [
    "def MyMax(x):\n",
    "    max_say=x[0] #adding the first number of the array in to max_say\n",
    "    for a in x:\n",
    "        if max_say<a: \n",
    "            max_say=a # if max_say is smaller than a, max_say become a\n",
    "    print(max_say)\n",
    "    \n",
    "say=(10,3,56,6,7,8)\n",
    "MyMax(say)"
   ]
  },
  {
   "cell_type": "markdown",
   "metadata": {},
   "source": [
    "# Saving data of books into TXT file with FUNCTION "
   ]
  },
  {
   "cell_type": "code",
   "execution_count": null,
   "metadata": {},
   "outputs": [],
   "source": [
    "def MyList():\n",
    "    print(\"<-------- Listing -------->\")\n",
    "    f=open(\"books.txt\", \"r\")\n",
    "    contents =f.read()\n",
    "    print(contents)\n",
    "\n",
    "def MyAddBook():\n",
    "    print(\"<-------- Adding a book -------->\")\n",
    "    book_name = str(input(\"Enter Book Name: \"))\n",
    "    book_writer = str(input(\"Enter Book Writer: \"))\n",
    "    shelf_number = str(input(\"Enter Book shelf number: \"))\n",
    "    count = str(input(\"Enter Book number: \"))\n",
    "    f=open(\"books.txt\", \"a+\")\n",
    "    #f.write(\"%s , %s , %s , %s d\\r\\n\" %(book_name,book_writer, shelf_number, count))\n",
    "    f.write(book_name + \"/\" + book_writer + \"/\" + shelf_number + \"/\" + count + \"\\n\")\n",
    "    f.close()\n",
    "\n",
    "def MySearch():\n",
    "    print(\"<-------- Searching  books -------->\") \n",
    "    word = str(input(\"Enter word: \"))\n",
    "    f=open(\"books.txt\", \"r\")\n",
    "    contents =f.read()\n",
    "    #datafile = file('books.txt')\n",
    "    found = False\n",
    "    for line in f:\n",
    "        if word in line:\n",
    "            found = True\n",
    "            break\n",
    "\n",
    "        return found\n",
    "def Main():\n",
    "    \n",
    "    print(\"Welcome\")\n",
    "    \n",
    "    while(True):\n",
    "        print(\"Please choose an option\")\n",
    "        print(\"a - Add a book with infos\\nl - List all of books\")\n",
    "        print(\"l - List books\")\n",
    "        print(\"s - Search a book\")\n",
    "        print(\"e - Exit\")\n",
    "        \n",
    "        chosen = input(\"Enter your selection: \")\n",
    "        \n",
    "        print(\"Your chose: {}\".format(chosen))\n",
    "        \n",
    "        if chosen == \"a\" or chosen == \"A\":            \n",
    "            MyAddBook()\n",
    "            \n",
    "        elif chosen == \"s\":\n",
    "            \n",
    "            found = MySearch()\n",
    "            if found:\n",
    "                print (\"true\")\n",
    "            else:\n",
    "                print (\"false\")\n",
    "\n",
    "        elif chosen == \"e\":\n",
    "            print(\"<-------- Exiting -------->\") \n",
    "            break\n",
    "            #Listing function with count of all books.\n",
    "        elif chosen == \"l\":            \n",
    "            MyList()\n",
    "\n",
    "        #Complete other menu options and give message for wrong entries.\n",
    "        \n",
    "        \n",
    "        #else:\n",
    "            #return\n",
    "        \n",
    "Main()"
   ]
  }
 ],
 "metadata": {
  "kernelspec": {
   "display_name": "Python 3",
   "language": "python",
   "name": "python3"
  },
  "language_info": {
   "codemirror_mode": {
    "name": "ipython",
    "version": 3
   },
   "file_extension": ".py",
   "mimetype": "text/x-python",
   "name": "python",
   "nbconvert_exporter": "python",
   "pygments_lexer": "ipython3",
   "version": "3.7.4"
  }
 },
 "nbformat": 4,
 "nbformat_minor": 2
}
